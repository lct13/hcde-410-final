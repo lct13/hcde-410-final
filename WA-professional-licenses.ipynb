{
 "cells": [
  {
   "cell_type": "markdown",
   "id": "3e8dc52a-ea90-4845-840f-acb9d035d5cb",
   "metadata": {
    "tags": []
   },
   "source": [
    "## Tattoo Studio & Nail Salon Demographics in WA\n",
    "\n",
    "#### Motivation and problem statement: \n",
    "I want to do this analysis to see the demographics of businesses such as tattoo studios and nail salons in Washington. It would be interesting to see how tattoo studios/nail salons are distributed across the state, I'd assume that more populated states would have more studios/salons, but it might not be the case. It would be interesting to see how these distributions have changed over time since 2020 too. I also want to compare these against distributions of overall professional licenses. I hope to learn about the demographics and distribution of tattoo studios and nail salons here.\n",
    "\n",
    "#### Data selected for analysis: \n",
    "I plan to use the [Professional License Transactions by Department of Licensing](https://data.wa.gov/Employment/Professional-License-Transactions-by-Department-of/ixni-jq78) dataset, provided by the Washington State Department of Licensing and publicly available under [The Open Database License (ODbL)](https://opendatacommons.org/licenses/odbl/1-0/) which allows \"users to freely share, modify, and use this Database while maintaining this same freedom for others\". This dataset contains counts of licenses based on type of license, professional area the license falls under, the US county/state the licensed person is from, the month/year of the transaction of license, and type of transaction(is it a new license, renewal or reinstatement). With this information I would be able to find out how tattoo and nail licenses are distributed over time, and whether a lot of people that get licensed are from other states. Knowing that Tattoo Artist (license type) falls under Body Art and Piercing (professional area) and Manicurist falls under Cosmetology, I can (separately) compare these license types to the overall professional area. Hopefully this would reveal interesting trends and ditributions. There aren't ethical concerns I can find in terms of data privacy because there's no personally identifiable data, but there can be oversights in the dataset. For example, not all operating businesses are licensed. Also, a lot of people from other states could have gotten a Washington residency before getting their license, making the state data skewed even more towards Washington.\n",
    "\n",
    "#### Unknowns and dependencies: \n",
    "The dataset seems complete when I scrolled through their first 10 pages, so I'm not worried about that but I'll still check before analyzing the data. However, there is some math I will need to do with the data and I'm not sure how yet. As mentioned above, licenses have different types of transaction (is it a new license, renewal or reinstatement), and I might need to do some math with these informations to better my analysis. If the amount of renewal and reinstatement transactions are insignificant compared to new/original licenses, I can probably ignore these. But if they're significant, I'm not sure what I can do yet.\n",
    "\n"
   ]
  },
  {
   "cell_type": "markdown",
   "id": "39976f03-c66e-4c2f-b539-3881524c0917",
   "metadata": {
    "tags": []
   },
   "source": [
    "#### Overview and research questions:\n",
    "This project aim to study the distributions and demographics of tattoo and nail professionals across Washington state, and how they've changed since July 2020. I want to compare these against the overall distributions and demographics of all professional licenses as well. I chose to look into tattoo and nail licenses because they are personally important to me, as a self taught tattooist (since 2018) and a Vietnamese immigrant (my auntie owns a nail salon, also see [How Vietnamese Americans Took Over The Nails Business](https://www.npr.org/2019/05/19/724452398/how-vietnamese-americans-took-over-the-nails-business-a-documentary)). My method will also be applicable to other professional licenses from this database.\n",
    "##### Research questions:\n",
    "* How are tattoo/nail licenses distributed across the state of Washington? How do these distributions compare to those of overall licenses?\n",
    "* How has these distributions changed over time since July 2020? Compared to overall licenses?\n",
    "\n",
    "#### Background and Related Work: \n",
    "* One thing we know about the timeline between July 2020 and now is that the pandemic has negatively affected the economy and businesses (see [Impacts of the COVID-19 Pandemic on Business Operations](https://www.census.gov/library/publications/2022/econ/2020-aces-covid-impact.html#:~:text=In%202020%2C%20the%20coronavirus%20pandemic,different%20impact%20on%20their%20payroll.)). This made me curious to see if that leaves an impact in the rate of people getting licenses, since the point of getting a license is to get hired a business, or open one.\n",
    "* It'd also be interesting to look at nail technicians and tattoo artists demographics by race and gender. [Zippia](zippia.com/nail-technician-jobs/demographics/) has very interesting charts about these demographics for 2010-2021. It says nail techs are 51% asian, while (Career Explorer)[https://www.careerexplorer.com/careers/nail-technician/demographics/] says they're 21% asian and 45% white. A study by (UCLA)[https://www.labor.ucla.edu/wp-content/uploads/2018/11/NAILFILES_FINAL.pdf] says they're 76% Asian. While the scope of my project doesn't cover ethnicity, it raises concerns that different data sources say noticeably different things about this.\n",
    "\n",
    "#### Methodology: Describe how you plan to investigate this phenomenon.\n",
    "1) I plan to gather data from [Professional License Transactions by Department of Licensing](https://data.wa.gov/Employment/Professional-License-Transactions-by-Department-of/ixni-jq78). \n",
    "2) I'll add up the total count of (tattoo/nail/all) licenses for each county found in the dataset, and visualize them in a bar chart, and possibly a heat map. \n",
    "3) To see the distribution over time, I'll first divide the counties into groups based on location and the distributions I saw in step 2. These groups will likely be King county, Eastern Washington, North Washington, South Washington, etc. Alternately I might select the counties with top counts of licenses, and group together the rest. Then, I'll find the total count of licenses for each of these groups, from each month between july 2020 and now, and visualize them in a series of line graphs on the same chart. Each column would be the month, and each line graph would be datapoints for a group of counties.\n"
   ]
  },
  {
   "cell_type": "code",
   "execution_count": null,
   "id": "6a22d2f1-450d-411b-9124-047458fe0f88",
   "metadata": {},
   "outputs": [],
   "source": []
  }
 ],
 "metadata": {
  "kernelspec": {
   "display_name": "Python 3 (ipykernel)",
   "language": "python",
   "name": "python3"
  },
  "language_info": {
   "codemirror_mode": {
    "name": "ipython",
    "version": 3
   },
   "file_extension": ".py",
   "mimetype": "text/x-python",
   "name": "python",
   "nbconvert_exporter": "python",
   "pygments_lexer": "ipython3",
   "version": "3.9.7"
  }
 },
 "nbformat": 4,
 "nbformat_minor": 5
}
